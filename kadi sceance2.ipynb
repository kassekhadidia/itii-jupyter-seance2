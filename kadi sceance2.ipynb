{
 "cells": [
  {
   "cell_type": "code",
   "execution_count": 10,
   "metadata": {},
   "outputs": [
    {
     "name": "stdout",
     "output_type": "stream",
     "text": [
      "le perimetre de mon rectangle 24\n",
      "la surface de mon rectangle 32\n"
     ]
    }
   ],
   "source": [
    "class Rectangle:\n",
    "    def __init__(self,longueur,largeur):\n",
    "        self.L=longueur\n",
    "        self.l=largeur\n",
    "    \n",
    "    def Perimetre(self):\n",
    "        return 2*(self.L + self.l)\n",
    " \n",
    "    \n",
    "    def surface(self):\n",
    "        return (self.L*self.l)\n",
    "\n",
    "\n",
    "\n",
    "    def get_longueur(self):\n",
    "        return self.L\n",
    "    \n",
    "    def get_largeur(self):\n",
    "        return self.l\n",
    "    \n",
    "R=Rectangle(8,4)\n",
    "\n",
    "print(\"le perimetre de mon rectangle\",R.Perimetre())\n",
    "print (\"la surface de mon rectangle\",R.surface())\n",
    "\n",
    "\n",
    "    \n",
    "\n",
    "class Parallelepipede(Rectangle):\n",
    "    def __init__(self,longueur,largeur, hauteur):\n",
    "        Rectangle.__init__(self,longueur,largeur)\n",
    "        self.H= hauteur\n",
    "        \n",
    "    def volume(self):\n",
    "        return (self.L *self.l *self.H)\n",
    "        \n",
    "    \n",
    "\n",
    "    \n"
   ]
  },
  {
   "cell_type": "code",
   "execution_count": null,
   "metadata": {},
   "outputs": [],
   "source": []
  },
  {
   "cell_type": "code",
   "execution_count": null,
   "metadata": {},
   "outputs": [],
   "source": []
  },
  {
   "cell_type": "code",
   "execution_count": null,
   "metadata": {},
   "outputs": [],
   "source": []
  }
 ],
 "metadata": {
  "kernelspec": {
   "display_name": "Python 3",
   "language": "python",
   "name": "python3"
  },
  "language_info": {
   "codemirror_mode": {
    "name": "ipython",
    "version": 3
   },
   "file_extension": ".py",
   "mimetype": "text/x-python",
   "name": "python",
   "nbconvert_exporter": "python",
   "pygments_lexer": "ipython3",
   "version": "3.7.6"
  }
 },
 "nbformat": 4,
 "nbformat_minor": 4
}
